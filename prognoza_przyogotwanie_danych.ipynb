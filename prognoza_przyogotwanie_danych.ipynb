{
  "cells": [
    {
      "cell_type": "code",
      "execution_count": null,
      "id": "7d81c76d",
      "metadata": {
        "id": "7d81c76d"
      },
      "outputs": [],
      "source": [
        "from sklearn.linear_model import LinearRegression\n",
        "import numpy as np\n",
        "import pandas as pd\n",
        "import math \n",
        "import matplotlib.pyplot as plt"
      ]
    },
    {
      "cell_type": "code",
      "execution_count": null,
      "id": "1c472afb",
      "metadata": {
        "id": "1c472afb"
      },
      "outputs": [],
      "source": [
        "input = \"C:\\\\Users\\\\wierz\\\\Desktop\\\\input.csv\" # ścieżka do pliku z danymi\n",
        "df = pd.read_csv(input)"
      ]
    },
    {
      "cell_type": "code",
      "execution_count": null,
      "id": "b409464f",
      "metadata": {
        "id": "b409464f"
      },
      "outputs": [],
      "source": [
        "x = np.array(df[\"x\"])\n",
        "x = x.reshape(-1,1)\n",
        "y = np.array(df[\"y\"])   "
      ]
    },
    {
      "cell_type": "code",
      "execution_count": null,
      "id": "5307ef2e",
      "metadata": {
        "id": "5307ef2e",
        "outputId": "44923094-9d26-4050-89f3-d3993c16e855"
      },
      "outputs": [
        {
          "data": {
            "text/plain": [
              "[<matplotlib.lines.Line2D at 0x2234aebe100>]"
            ]
          },
          "execution_count": 52,
          "metadata": {},
          "output_type": "execute_result"
        },
        {
          "data": {
            "image/png": "[encoded data removed]",
            "text/plain": [
              "<Figure size 432x288 with 1 Axes>"
            ]
          },
          "metadata": {},
          "output_type": "display_data"
        }
      ],
      "source": [
        "linear_model = LinearRegression()\n",
        "linear_model.fit(x,y)\n",
        "fig, ax = plt.subplots()\n",
        "ax.grid(True)\n",
        "plt.ylim([140 , 210])\n",
        "plt.style.use('dark_background')\n",
        "plt.plot(x, y, \"co\")\n"
      ]
    },
    {
      "cell_type": "code",
      "execution_count": null,
      "id": "5c3ed2a6",
      "metadata": {
        "id": "5c3ed2a6"
      },
      "outputs": [],
      "source": [
        "y_linear = linear_model.predict(x)"
      ]
    },
    {
      "cell_type": "code",
      "execution_count": null,
      "id": "3d1e654a",
      "metadata": {
        "id": "3d1e654a",
        "outputId": "4c3cc302-8127-42eb-c03f-4ed94953d206"
      },
      "outputs": [
        {
          "data": {
            "text/plain": [
              "[<matplotlib.lines.Line2D at 0x2234af1c970>]"
            ]
          },
          "execution_count": 53,
          "metadata": {},
          "output_type": "execute_result"
        },
        {
          "data": {
            "image/png": "[encoded data removed]",
            "text/plain": [
              "<Figure size 432x288 with 1 Axes>"
            ]
          },
          "metadata": {},
          "output_type": "display_data"
        }
      ],
      "source": [
        "linear_model.fit(x,y)\n",
        "fig, ax = plt.subplots()\n",
        "ax.grid(True)\n",
        "plt.ylim([140 , 210])\n",
        "plt.style.use('dark_background')\n",
        "plt.plot(x, y_linear, \"-or\")\n"
      ]
    },
    {
      "cell_type": "code",
      "execution_count": null,
      "id": "512bb1b2",
      "metadata": {
        "id": "512bb1b2",
        "outputId": "47e8e0c1-f835-4756-fadd-b01f1e16d0ae"
      },
      "outputs": [
        {
          "data": {
            "text/plain": [
              "[<matplotlib.lines.Line2D at 0x2234ce4fb50>]"
            ]
          },
          "execution_count": 54,
          "metadata": {},
          "output_type": "execute_result"
        },
        {
          "data": {
            "image/png": "[encoded data removed]",
            "text/plain": [
              "<Figure size 432x288 with 1 Axes>"
            ]
          },
          "metadata": {},
          "output_type": "display_data"
        }
      ],
      "source": [
        "x_log = np.log(x)\n",
        "y_log = np.log(y)\n",
        "\n",
        "\n",
        "power_model = LinearRegression()\n",
        "power_model.fit(x_log,y_log)\n",
        "fig, ax = plt.subplots()\n",
        "ax.grid(True)\n",
        "plt.ylim([140 , 210])\n",
        "plt.style.use('dark_background')\n",
        "plt.plot(x, y, \"co\")"
      ]
    },
    {
      "cell_type": "code",
      "execution_count": null,
      "id": "46b5ee22",
      "metadata": {
        "id": "46b5ee22"
      },
      "outputs": [],
      "source": [
        "y_power = linear_model.predict(x_log)"
      ]
    },
    {
      "cell_type": "code",
      "execution_count": null,
      "id": "ec8a9138",
      "metadata": {
        "id": "ec8a9138",
        "outputId": "f3c02cad-c185-4e40-9e37-089c99a8ad86"
      },
      "outputs": [
        {
          "data": {
            "text/plain": [
              "[<matplotlib.lines.Line2D at 0x2234e21a970>]"
            ]
          },
          "execution_count": 60,
          "metadata": {},
          "output_type": "execute_result"
        },
        {
          "data": {
            "image/png": "[encoded data removed]",
            "text/plain": [
              "<Figure size 432x288 with 1 Axes>"
            ]
          },
          "metadata": {},
          "output_type": "display_data"
        }
      ],
      "source": [
        "fig, ax = plt.subplots()\n",
        "ax.grid(True)\n",
        "plt.ylim([140 , 210])\n",
        "plt.style.use('dark_background')\n",
        "plt.plot(np.exp(x_log), np.exp(y_power), \"-r\")"
      ]
    },
    {
      "cell_type": "code",
      "execution_count": null,
      "id": "235ea765",
      "metadata": {
        "id": "235ea765",
        "outputId": "bd8ddda6-04ae-4910-c56e-d00385d8297f"
      },
      "outputs": [
        {
          "data": {
            "text/plain": [
              "[<matplotlib.lines.Line2D at 0x2234e0086d0>]"
            ]
          },
          "execution_count": 66,
          "metadata": {},
          "output_type": "execute_result"
        },
        {
          "data": {
            "image/png": "[encoded data removed]",
            "text/plain": [
              "<Figure size 432x288 with 1 Axes>"
            ]
          },
          "metadata": {},
          "output_type": "display_data"
        }
      ],
      "source": [
        "X_log = np.log(x) # logarytmujemy dane wejściowe, tworzymy nowe zmienne\n",
        "y_log = np.log(y)\n",
        "\n",
        "power_model = LinearRegression()\n",
        "power_model.fit(X_log, y_log)\n",
        "\n",
        "#konfiguracja obszaru rysowania\n",
        "fig, ax = plt.subplots()\n",
        "ax.grid(True)\n",
        "plt.ylim([140 , 210])\n",
        "plt.style.use('dark_background') # ciemne tło\n",
        "\n",
        "\n",
        "# rysowanie danych wejściowych\n",
        "plt.plot(x, y, \"co\")\n",
        "\n",
        "y_power=power_model.predict(X_log)\n",
        "\n",
        "plt.plot(np.exp(X_log), np.exp(y_power), \"-or\")"
      ]
    },
    {
      "cell_type": "code",
      "execution_count": null,
      "id": "303c4703",
      "metadata": {
        "id": "303c4703",
        "outputId": "69e37198-d241-40a6-e0df-7e26c9887ceb"
      },
      "outputs": [
        {
          "data": {
            "text/plain": [
              "[<matplotlib.lines.Line2D at 0x2234dd43a90>]"
            ]
          },
          "execution_count": 70,
          "metadata": {},
          "output_type": "execute_result"
        },
        {
          "data": {
            "image/png": "[encoded data removed]",
            "text/plain": [
              "<Figure size 432x288 with 1 Axes>"
            ]
          },
          "metadata": {},
          "output_type": "display_data"
        }
      ],
      "source": [
        "X_recip = 1/x # odwrotność X\n",
        "\n",
        "hyperbolic_model = LinearRegression()\n",
        "hyperbolic_model.fit(X_recip, y) # odwrotność X, y bez zmian\n",
        "#konfiguracja obszaru rysowania\n",
        "fig, ax = plt.subplots()\n",
        "ax.grid(True)\n",
        "plt.ylim([140 , 210])\n",
        "plt.style.use('dark_background') # ciemne tło\n",
        "\n",
        "# rysowanie danych wejściowych\n",
        "plt.plot(x, y, \"co\")\n",
        "\n",
        "y_recip=hyperbolic_model.predict(X_recip)\n",
        "\n",
        "# rysowanie modelu\n",
        "plt.plot(x, y_recip, \"-or\")"
      ]
    },
    {
      "cell_type": "code",
      "execution_count": null,
      "id": "d033deea",
      "metadata": {
        "id": "d033deea",
        "outputId": "0628d076-cd83-483b-b1db-6f62270ce4a5"
      },
      "outputs": [
        {
          "data": {
            "text/plain": [
              "-0.0004644093813794825"
            ]
          },
          "execution_count": 73,
          "metadata": {},
          "output_type": "execute_result"
        }
      ],
      "source": [
        "et = y-np.exp(y_power)\n",
        "et.sum()"
      ]
    },
    {
      "cell_type": "code",
      "execution_count": null,
      "id": "0cbb3ca7",
      "metadata": {
        "id": "0cbb3ca7",
        "outputId": "959716f5-2511-4be0-c62e-e21cca551a7c"
      },
      "outputs": [
        {
          "data": {
            "text/plain": [
              "-0.0004644093813794825"
            ]
          },
          "execution_count": 72,
          "metadata": {},
          "output_type": "execute_result"
        }
      ],
      "source": [
        "et"
      ]
    },
    {
      "cell_type": "code",
      "execution_count": null,
      "id": "b7a5651f",
      "metadata": {
        "id": "b7a5651f"
      },
      "outputs": [],
      "source": [
        "l=(np.abs(et)/np.exp(y_power)).sum()"
      ]
    },
    {
      "cell_type": "code",
      "execution_count": null,
      "id": "c2d4867d",
      "metadata": {
        "id": "c2d4867d",
        "outputId": "666686ab-458e-4f71-cda1-340a8fb1eafe"
      },
      "outputs": [
        {
          "data": {
            "text/plain": [
              "0.00040529724642405943"
            ]
          },
          "execution_count": 83,
          "metadata": {},
          "output_type": "execute_result"
        }
      ],
      "source": [
        "l=(np.abs(et)/np.exp(y_power)).sum()\n",
        "n=y_power.shape[0]\n",
        "l/n"
      ]
    },
    {
      "cell_type": "code",
      "execution_count": null,
      "id": "7a3eaab4",
      "metadata": {
        "id": "7a3eaab4"
      },
      "outputs": [],
      "source": [
        "et1 = y - y_recip"
      ]
    },
    {
      "cell_type": "code",
      "execution_count": null,
      "id": "afd9d237",
      "metadata": {
        "id": "afd9d237",
        "outputId": "6456c898-71c5-4bfc-c025-2d07d2479e18"
      },
      "outputs": [
        {
          "data": {
            "text/plain": [
              "7.24708959241088e-58"
            ]
          },
          "execution_count": 85,
          "metadata": {},
          "output_type": "execute_result"
        }
      ],
      "source": [
        "l=(np.abs(et)/np.exp(y_recip)).sum()\n",
        "n=y_recip.shape[0]\n",
        "l/n"
      ]
    },
    {
      "cell_type": "code",
      "execution_count": null,
      "id": "315f4a1e",
      "metadata": {
        "id": "315f4a1e"
      },
      "outputs": [],
      "source": [
        "    "
      ]
    }
  ],
  "metadata": {
    "kernelspec": {
      "display_name": "Python 3 (ipykernel)",
      "language": "python",
      "name": "python3"
    },
    "language_info": {
      "codemirror_mode": {
        "name": "ipython",
        "version": 3
      },
      "file_extension": ".py",
      "mimetype": "text/x-python",
      "name": "python",
      "nbconvert_exporter": "python",
      "pygments_lexer": "ipython3",
      "version": "3.9.7"
    },
    "colab": {
      "provenance": []
    }
  },
  "nbformat": 4,
  "nbformat_minor": 5
}